{
  "nbformat": 4,
  "nbformat_minor": 0,
  "metadata": {
    "colab": {
      "provenance": []
    },
    "kernelspec": {
      "name": "python3",
      "display_name": "Python 3"
    },
    "language_info": {
      "name": "python"
    }
  },
  "cells": [
    {
      "cell_type": "code",
      "execution_count": 1,
      "metadata": {
        "id": "zJf-1rsDXYgE"
      },
      "outputs": [],
      "source": [
        "import requests #make a HHTP request to a web pagfe using python"
      ]
    },
    {
      "cell_type": "code",
      "source": [
        "import datetime #Import Datetime to convert Unix time to DateTime format"
      ],
      "metadata": {
        "id": "fyBnW4JTaGja"
      },
      "execution_count": 2,
      "outputs": []
    },
    {
      "cell_type": "code",
      "source": [
        "APIKey = '161f2b2f8004ff8ba8d21802d89edc48' #Enter your API key from the open Weather Website"
      ],
      "metadata": {
        "id": "m8731AqdaMl6"
      },
      "execution_count": 3,
      "outputs": []
    },
    {
      "cell_type": "code",
      "source": [
        "BaseURL = \"http://api.openweathermap.org/data/2.5/weather\""
      ],
      "metadata": {
        "id": "wXaHNzJhaXjw"
      },
      "execution_count": 6,
      "outputs": []
    },
    {
      "cell_type": "code",
      "source": [
        "Greetings = 'Welcome to your Weather Tracker application, Which City do you want to view?'\n",
        "print(Greetings)\n",
        "\n",
        "# Input the relavant City Name\n",
        "city = input('Enter a city Name: ')\n",
        "RequestURL = f'{BaseURL}?appid={APIKey}&q={city}'\n",
        "Response = requests.get(RequestURL)\n",
        "\n",
        "#If the response is 'ok; then get the while JSOn Wather data as a Python dictonary\n",
        "\n",
        "if Response.status_code == 200:\n",
        "    Data = Response.json()\n",
        "    print(Data)\n",
        "else:\n",
        "    print(\"Buddy..It doesn't look quite right, try again\")\n",
        "\n",
        ""
      ],
      "metadata": {
        "colab": {
          "base_uri": "https://localhost:8080/"
        },
        "id": "OfTOFhi4aa6g",
        "outputId": "55a87a6c-1472-4312-b76d-ba720f9901fe"
      },
      "execution_count": 7,
      "outputs": [
        {
          "output_type": "stream",
          "name": "stdout",
          "text": [
            "Welcome to your Weather Tracker application, Which City do you want to view?\n",
            "Enter a city Name: Vadodara\n",
            "{'coord': {'lon': 73.2, 'lat': 22.3}, 'weather': [{'id': 721, 'main': 'Haze', 'description': 'haze', 'icon': '50n'}], 'base': 'stations', 'main': {'temp': 304.13, 'feels_like': 309.54, 'temp_min': 304.13, 'temp_max': 304.13, 'pressure': 1010, 'humidity': 66, 'sea_level': 1010, 'grnd_level': 1006}, 'visibility': 5000, 'wind': {'speed': 0, 'deg': 0}, 'clouds': {'all': 0}, 'dt': 1728395882, 'sys': {'type': 1, 'id': 9060, 'country': 'IN', 'sunrise': 1728349247, 'sunset': 1728391701}, 'timezone': 19800, 'id': 1253573, 'name': 'Vadodara', 'cod': 200}\n"
          ]
        }
      ]
    },
    {
      "cell_type": "code",
      "source": [
        "import requests\n",
        "\n",
        "APIKey = '161f2b2f8004ff8ba8d21802d89edc48'  # Enter your API key from OpenWeather\n",
        "BaseURL = \"http://api.openweathermap.org/data/2.5/weather\"\n",
        "\n",
        "greetings = 'Welcome to your Weather Tracker application. Which city do you want to view?'\n",
        "print(greetings)\n",
        "\n",
        "# Input the relevant city name\n",
        "city = input('Enter a city name: ')\n",
        "request_url = f'{BaseURL}?appid={APIKey}&q={city}&units=metric'  # Added units for temperature in Celsius\n",
        "response = requests.get(request_url)\n",
        "\n",
        "# If the response is 'ok', then get the whole JSON weather data as a Python dictionary\n",
        "if response.status_code == 200:\n",
        "    data = response.json()\n",
        "\n",
        "    # Extract relevant information\n",
        "    temperature = data['main']['temp']\n",
        "    weather_description = data['weather'][0]['description']\n",
        "    icon_code = data['weather'][0]['icon']\n",
        "\n",
        "    # Simple text-based representation of weather icons\n",
        "    weather_symbols = {\n",
        "        '01d': '☀️',  # Clear sky\n",
        "        '01n': '🌙',  # Clear sky (night)\n",
        "        '02d': '🌤️',  # Few clouds\n",
        "        '02n': '🌥️',  # Few clouds (night)\n",
        "        '03d': '☁️',  # Scattered clouds\n",
        "        '03n': '☁️',  # Scattered clouds (night)\n",
        "        '04d': '☁️',  # Broken clouds\n",
        "        '04n': '☁️',  # Broken clouds (night)\n",
        "        '09d': '🌧️',  # Shower rain\n",
        "        '09n': '🌧️',  # Shower rain (night)\n",
        "        '10d': '🌦️',  # Rain\n",
        "        '10n': '🌧️',  # Rain (night)\n",
        "        '11d': '⛈️',  # Thunderstorm\n",
        "        '11n': '⛈️',  # Thunderstorm (night)\n",
        "        '13d': '❄️',  # Snow\n",
        "        '13n': '❄️',  # Snow (night)\n",
        "        '50d': '🌫️',  # Mist\n",
        "        '50n': '🌫️'   # Mist (night)\n",
        "    }\n",
        "\n",
        "    # Get the corresponding symbol\n",
        "    weather_symbol = weather_symbols.get(icon_code, '🌈')  # Default to rainbow if not found\n",
        "\n",
        "    print(f\"Current temperature in {city}: {temperature}°C {weather_symbol}\")\n",
        "    print(f\"Weather description: {weather_description}\")\n",
        "\n",
        "else:\n",
        "    print(\"Buddy.. It doesn't look quite right, try again\")\n",
        "    print(f\"Error Code: {response.status_code}, Message: {response.json().get('message', '')}\")\n"
      ],
      "metadata": {
        "colab": {
          "base_uri": "https://localhost:8080/"
        },
        "id": "GO7fNEOLb-by",
        "outputId": "75b1f835-3c4b-4d97-a17a-b085680c93ef"
      },
      "execution_count": 9,
      "outputs": [
        {
          "output_type": "stream",
          "name": "stdout",
          "text": [
            "Welcome to your Weather Tracker application. Which city do you want to view?\n",
            "Enter a city name: indore\n",
            "Current temperature in indore: 28.1°C 🌫️\n",
            "Weather description: haze\n"
          ]
        }
      ]
    }
  ]
}